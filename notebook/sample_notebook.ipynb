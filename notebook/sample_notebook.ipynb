{
 "cells": [
  {
   "cell_type": "code",
   "execution_count": 1,
   "metadata": {},
   "outputs": [],
   "source": [
    "%matplotlib inline\n",
    "import matplotlib.pyplot as plt"
   ]
  },
  {
   "cell_type": "code",
   "execution_count": 5,
   "metadata": {},
   "outputs": [],
   "source": [
    "import torch"
   ]
  },
  {
   "cell_type": "code",
   "execution_count": 2,
   "metadata": {},
   "outputs": [],
   "source": [
    "from sklearn import datasets\n",
    "\n",
    "# import some data to play with\n",
    "iris = datasets.load_iris()\n",
    "X = iris.data[:, :2]\n",
    "Y = iris.target"
   ]
  },
  {
   "cell_type": "markdown",
   "metadata": {},
   "source": [
    "## Data Generation"
   ]
  },
  {
   "cell_type": "code",
   "execution_count": 3,
   "metadata": {},
   "outputs": [
    {
     "name": "stdout",
     "output_type": "stream",
     "text": [
      "(150, 2)\n",
      "(150,)\n"
     ]
    }
   ],
   "source": [
    "print(X.shape)\n",
    "print(Y.shape)"
   ]
  },
  {
   "cell_type": "code",
   "execution_count": 6,
   "metadata": {},
   "outputs": [],
   "source": [
    "X = torch.from_numpy(X)\n",
    "Y = torch.from_numpy(Y)"
   ]
  },
  {
   "cell_type": "code",
   "execution_count": 7,
   "metadata": {},
   "outputs": [],
   "source": [
    "import torch.utils.data as Data"
   ]
  },
  {
   "cell_type": "code",
   "execution_count": 8,
   "metadata": {},
   "outputs": [],
   "source": [
    "torch_data = Data.TensorDataset(X, Y)"
   ]
  },
  {
   "cell_type": "code",
   "execution_count": 19,
   "metadata": {},
   "outputs": [],
   "source": [
    "loader = Data.DataLoader(\n",
    "    dataset=torch_data,\n",
    "    batch_size=64,\n",
    "    shuffle=True,\n",
    "    num_workers=2,\n",
    ")"
   ]
  },
  {
   "cell_type": "markdown",
   "metadata": {},
   "source": [
    "## NN Generation"
   ]
  },
  {
   "cell_type": "code",
   "execution_count": 10,
   "metadata": {},
   "outputs": [],
   "source": [
    "import torch\n",
    "import torch.nn as nn\n",
    "import torch.nn.functional as F"
   ]
  },
  {
   "cell_type": "code",
   "execution_count": 11,
   "metadata": {},
   "outputs": [],
   "source": [
    "class Net(nn.Module):\n",
    "    def __init__(self):\n",
    "        super(Net, self).__init__()\n",
    "        self.fc1 = nn.Linear(2, 32)\n",
    "        self.fc2 = nn.Linear(32, 8)\n",
    "        self.fc3 = nn.Linear(8, 3)\n",
    "        \n",
    "    def forward(self, x):\n",
    "        x = F.relu(self.fc1(x))\n",
    "        x = F.relu(self.fc2(x))\n",
    "        x = self.fc3(x)\n",
    "        return x"
   ]
  },
  {
   "cell_type": "code",
   "execution_count": 23,
   "metadata": {},
   "outputs": [
    {
     "name": "stdout",
     "output_type": "stream",
     "text": [
      "Net(\n",
      "  (fc1): Linear(in_features=2, out_features=32, bias=True)\n",
      "  (fc2): Linear(in_features=32, out_features=8, bias=True)\n",
      "  (fc3): Linear(in_features=8, out_features=3, bias=True)\n",
      ")\n"
     ]
    }
   ],
   "source": [
    "net = Net()\n",
    "net = net.float()\n",
    "print(net)"
   ]
  },
  {
   "cell_type": "code",
   "execution_count": 26,
   "metadata": {},
   "outputs": [],
   "source": [
    "import torch.optim as optim\n",
    "\n",
    "criterion = nn.CrossEntropyLoss()\n",
    "optimizer = optim.SGD(net.parameters(), lr=0.01, momentum=0.9)"
   ]
  },
  {
   "cell_type": "markdown",
   "metadata": {},
   "source": [
    "## Training"
   ]
  },
  {
   "cell_type": "code",
   "execution_count": 27,
   "metadata": {},
   "outputs": [
    {
     "name": "stdout",
     "output_type": "stream",
     "text": [
      "0.7966356873512268\n",
      "0.7801154255867004\n",
      "0.7522132992744446\n",
      "0.734838604927063\n",
      "0.7328603267669678\n",
      "0.6755171418190002\n",
      "0.678482174873352\n",
      "0.6431788206100464\n",
      "0.6416812539100647\n",
      "0.6159035563468933\n",
      "0.5455247759819031\n",
      "0.5211825370788574\n",
      "0.5746440291404724\n",
      "0.5111878514289856\n",
      "0.5774176120758057\n",
      "0.5695798993110657\n",
      "0.48390018939971924\n",
      "0.5187276005744934\n",
      "0.5314834117889404\n",
      "0.4870004951953888\n",
      "0.5140343904495239\n",
      "0.4827297031879425\n",
      "0.5045962333679199\n",
      "0.4465681314468384\n",
      "0.5104561448097229\n",
      "0.5626042485237122\n",
      "0.45902952551841736\n",
      "0.4732963442802429\n",
      "0.5009604692459106\n",
      "0.5277127027511597\n",
      "0.4469616413116455\n",
      "0.6004400253295898\n",
      "0.44069674611091614\n",
      "0.5326589345932007\n",
      "0.5459178686141968\n",
      "0.44009923934936523\n",
      "0.5673669576644897\n",
      "0.4766644835472107\n",
      "0.5489664673805237\n",
      "0.46185779571533203\n",
      "0.5102113485336304\n",
      "0.5073224306106567\n",
      "0.37490618228912354\n",
      "0.4902339577674866\n",
      "0.4703598916530609\n",
      "0.489685595035553\n",
      "0.4858153462409973\n",
      "0.530290961265564\n",
      "0.4802493155002594\n",
      "0.45105990767478943\n",
      "0.4414791166782379\n",
      "0.44234728813171387\n",
      "0.5264495611190796\n",
      "0.48214855790138245\n",
      "0.480653315782547\n",
      "0.4415460526943207\n",
      "0.4229794144630432\n",
      "0.48691526055336\n",
      "0.438800185918808\n",
      "0.4505217671394348\n",
      "0.46318382024765015\n",
      "0.4050847291946411\n",
      "0.52944016456604\n",
      "0.5425695180892944\n",
      "0.4453495442867279\n",
      "0.47322940826416016\n",
      "0.3939509391784668\n",
      "0.5723492503166199\n",
      "0.49574965238571167\n",
      "0.5073655247688293\n",
      "0.4578709602355957\n",
      "0.4896995723247528\n",
      "0.47717392444610596\n",
      "0.49587297439575195\n",
      "0.5112289786338806\n",
      "0.4890386462211609\n",
      "0.4641311466693878\n",
      "0.5490705370903015\n",
      "0.5444511771202087\n",
      "0.4836149513721466\n",
      "0.47682949900627136\n",
      "0.44888341426849365\n",
      "0.49244749546051025\n",
      "0.44180768728256226\n",
      "0.4359009861946106\n",
      "0.47879189252853394\n",
      "0.4704989790916443\n",
      "0.41622835397720337\n",
      "0.47413399815559387\n",
      "0.4903899133205414\n",
      "0.47471413016319275\n",
      "0.4431675672531128\n",
      "0.42611163854599\n",
      "0.47014284133911133\n",
      "0.47603386640548706\n",
      "0.457509309053421\n",
      "0.4204176962375641\n",
      "0.4767170250415802\n",
      "0.4314945638179779\n",
      "0.5148837566375732\n"
     ]
    }
   ],
   "source": [
    "for epoch in range(100):\n",
    "    running_loss = 0.0\n",
    "    for i, data in enumerate(loader, 0):\n",
    "        inputs, labels = data\n",
    "        \n",
    "        optimizer.zero_grad()\n",
    "        outputs = net(inputs.float())\n",
    "        loss = criterion(outputs, labels.long())\n",
    "        loss.backward()\n",
    "        optimizer.step()\n",
    "        \n",
    "        running_loss += loss.item()\n",
    "        if i == 0:\n",
    "            print(running_loss)\n",
    "        running_loss = 0.0"
   ]
  },
  {
   "cell_type": "code",
   "execution_count": 28,
   "metadata": {},
   "outputs": [
    {
     "name": "stdout",
     "output_type": "stream",
     "text": [
      "error rate: 0.2866666666666667\n"
     ]
    }
   ],
   "source": [
    "outputs = net(X.float())\n",
    "result = torch.argmax(outputs, 1).numpy() - Y.numpy()\n",
    "print('error rate:', sum(1 * (result != 0)) / result.shape[0])"
   ]
  },
  {
   "cell_type": "code",
   "execution_count": null,
   "metadata": {},
   "outputs": [],
   "source": []
  }
 ],
 "metadata": {
  "kernelspec": {
   "display_name": "Python 3",
   "language": "python",
   "name": "python3"
  },
  "language_info": {
   "codemirror_mode": {
    "name": "ipython",
    "version": 3
   },
   "file_extension": ".py",
   "mimetype": "text/x-python",
   "name": "python",
   "nbconvert_exporter": "python",
   "pygments_lexer": "ipython3",
   "version": "3.7.4"
  }
 },
 "nbformat": 4,
 "nbformat_minor": 2
}
