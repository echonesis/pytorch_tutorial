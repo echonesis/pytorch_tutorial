{
 "cells": [
  {
   "cell_type": "markdown",
   "metadata": {},
   "source": [
    "## Data Generation"
   ]
  },
  {
   "cell_type": "code",
   "execution_count": 1,
   "metadata": {},
   "outputs": [],
   "source": [
    "import os\n",
    "import pandas as pd"
   ]
  },
  {
   "cell_type": "code",
   "execution_count": 3,
   "metadata": {},
   "outputs": [],
   "source": [
    "input_file = r'../data/yahoo_top_products_click_popularity_20200201.txt'"
   ]
  },
  {
   "cell_type": "code",
   "execution_count": 4,
   "metadata": {},
   "outputs": [
    {
     "name": "stderr",
     "output_type": "stream",
     "text": [
      "C:\\Users\\echon\\Anaconda3\\lib\\site-packages\\ipykernel_launcher.py:1: ParserWarning: Falling back to the 'python' engine because the 'c' engine does not support regex separators (separators > 1 char and different from '\\s+' are interpreted as regex); you can avoid this warning by specifying engine='python'.\n",
      "  \"\"\"Entry point for launching an IPython kernel.\n"
     ]
    }
   ],
   "source": [
    "df_train = pd.read_csv(input_file, sep=r'\\t')"
   ]
  },
  {
   "cell_type": "code",
   "execution_count": 5,
   "metadata": {},
   "outputs": [
    {
     "data": {
      "text/html": [
       "<div>\n",
       "<style scoped>\n",
       "    .dataframe tbody tr th:only-of-type {\n",
       "        vertical-align: middle;\n",
       "    }\n",
       "\n",
       "    .dataframe tbody tr th {\n",
       "        vertical-align: top;\n",
       "    }\n",
       "\n",
       "    .dataframe thead th {\n",
       "        text-align: right;\n",
       "    }\n",
       "</style>\n",
       "<table border=\"1\" class=\"dataframe\">\n",
       "  <thead>\n",
       "    <tr style=\"text-align: right;\">\n",
       "      <th></th>\n",
       "      <th>Parent L1 Description</th>\n",
       "      <th>Parent L2 Description</th>\n",
       "      <th>MID</th>\n",
       "      <th>Merchant Name</th>\n",
       "      <th>OID</th>\n",
       "      <th>Title</th>\n",
       "      <th>Description</th>\n",
       "      <th>Manufacturer</th>\n",
       "      <th>Price</th>\n",
       "      <th>Min Offer Price 30 Day</th>\n",
       "      <th>Price Change</th>\n",
       "      <th>Click Popularity</th>\n",
       "    </tr>\n",
       "  </thead>\n",
       "  <tbody>\n",
       "    <tr>\n",
       "      <td>0</td>\n",
       "      <td>Pet Supplies</td>\n",
       "      <td>More Pet Supplies</td>\n",
       "      <td>248942</td>\n",
       "      <td>Chewy.com</td>\n",
       "      <td>9151715234</td>\n",
       "      <td>Wisdom Panel Health Breed &amp; Health Identificat...</td>\n",
       "      <td>Wisdom Panel Health Breed &amp; Health Identificat...</td>\n",
       "      <td>Wisdom Panel</td>\n",
       "      <td>149.99</td>\n",
       "      <td>89.99</td>\n",
       "      <td>66.67</td>\n",
       "      <td>35415.0480</td>\n",
       "    </tr>\n",
       "    <tr>\n",
       "      <td>1</td>\n",
       "      <td>Clothing &amp; Accessories</td>\n",
       "      <td>Men's Clothing</td>\n",
       "      <td>313027</td>\n",
       "      <td>eBay PLA US</td>\n",
       "      <td>11114337071</td>\n",
       "      <td>Girl Scout Cookies 2019-20 New Cookies are in!...</td>\n",
       "      <td>Girl Scout Cookies 2019-20 New Cookies are in!...</td>\n",
       "      <td>Girl Scouts</td>\n",
       "      <td>48.00</td>\n",
       "      <td>48.00</td>\n",
       "      <td>0.00</td>\n",
       "      <td>12215.2644</td>\n",
       "    </tr>\n",
       "    <tr>\n",
       "      <td>2</td>\n",
       "      <td>Clothing &amp; Accessories</td>\n",
       "      <td>Men's Clothing</td>\n",
       "      <td>134716</td>\n",
       "      <td>MensUSA.com</td>\n",
       "      <td>5651235052</td>\n",
       "      <td>Classic Long Royal Blue Fashion Zoot Suit</td>\n",
       "      <td>\"This Zoot Suit is as nice and unique as it ge...</td>\n",
       "      <td>mensusa</td>\n",
       "      <td>139.00</td>\n",
       "      <td>139.00</td>\n",
       "      <td>0.00</td>\n",
       "      <td>8317.7750</td>\n",
       "    </tr>\n",
       "    <tr>\n",
       "      <td>3</td>\n",
       "      <td>'N/A'</td>\n",
       "      <td>'N/A'</td>\n",
       "      <td>76071</td>\n",
       "      <td>Joe's New Balance Outlet</td>\n",
       "      <td>9756405838</td>\n",
       "      <td>New Balance Women's FuelCore NERGIZE Shoes Bla...</td>\n",
       "      <td>Slip on the FuelCore NERGIZE women's training ...</td>\n",
       "      <td>New Balance</td>\n",
       "      <td>38.99</td>\n",
       "      <td>38.99</td>\n",
       "      <td>0.00</td>\n",
       "      <td>6132.8540</td>\n",
       "    </tr>\n",
       "    <tr>\n",
       "      <td>4</td>\n",
       "      <td>Clothing &amp; Accessories</td>\n",
       "      <td>Handbags &amp; Luggage</td>\n",
       "      <td>31851</td>\n",
       "      <td>Kohl's</td>\n",
       "      <td>5681651813</td>\n",
       "      <td>Stone &amp; Co. Irene Leather Hobo, Grey</td>\n",
       "      <td>Watch the product video here. Stone &amp; Co. embo...</td>\n",
       "      <td>Stone &amp; Co.</td>\n",
       "      <td>99.00</td>\n",
       "      <td>69.30</td>\n",
       "      <td>42.85</td>\n",
       "      <td>5251.5413</td>\n",
       "    </tr>\n",
       "  </tbody>\n",
       "</table>\n",
       "</div>"
      ],
      "text/plain": [
       "    Parent L1 Description Parent L2 Description     MID  \\\n",
       "0            Pet Supplies     More Pet Supplies  248942   \n",
       "1  Clothing & Accessories        Men's Clothing  313027   \n",
       "2  Clothing & Accessories        Men's Clothing  134716   \n",
       "3                   'N/A'                 'N/A'   76071   \n",
       "4  Clothing & Accessories    Handbags & Luggage   31851   \n",
       "\n",
       "              Merchant Name          OID  \\\n",
       "0                 Chewy.com   9151715234   \n",
       "1               eBay PLA US  11114337071   \n",
       "2               MensUSA.com   5651235052   \n",
       "3  Joe's New Balance Outlet   9756405838   \n",
       "4                    Kohl's   5681651813   \n",
       "\n",
       "                                               Title  \\\n",
       "0  Wisdom Panel Health Breed & Health Identificat...   \n",
       "1  Girl Scout Cookies 2019-20 New Cookies are in!...   \n",
       "2          Classic Long Royal Blue Fashion Zoot Suit   \n",
       "3  New Balance Women's FuelCore NERGIZE Shoes Bla...   \n",
       "4               Stone & Co. Irene Leather Hobo, Grey   \n",
       "\n",
       "                                         Description  Manufacturer   Price  \\\n",
       "0  Wisdom Panel Health Breed & Health Identificat...  Wisdom Panel  149.99   \n",
       "1  Girl Scout Cookies 2019-20 New Cookies are in!...   Girl Scouts   48.00   \n",
       "2  \"This Zoot Suit is as nice and unique as it ge...       mensusa  139.00   \n",
       "3  Slip on the FuelCore NERGIZE women's training ...   New Balance   38.99   \n",
       "4  Watch the product video here. Stone & Co. embo...   Stone & Co.   99.00   \n",
       "\n",
       "   Min Offer Price 30 Day  Price Change  Click Popularity  \n",
       "0                   89.99         66.67        35415.0480  \n",
       "1                   48.00          0.00        12215.2644  \n",
       "2                  139.00          0.00         8317.7750  \n",
       "3                   38.99          0.00         6132.8540  \n",
       "4                   69.30         42.85         5251.5413  "
      ]
     },
     "execution_count": 5,
     "metadata": {},
     "output_type": "execute_result"
    }
   ],
   "source": [
    "df_train.head()"
   ]
  },
  {
   "cell_type": "code",
   "execution_count": 6,
   "metadata": {},
   "outputs": [],
   "source": [
    "null_rows = (df_train['Title'].isnull()) \\\n",
    "            | (df_train['Parent L1 Description'].isnull()) \\\n",
    "            | (df_train['Parent L2 Description'].isnull()) \\\n",
    "            | (df_train['Price'].isnull()) \\\n",
    "            | (df_train['Click Popularity'].isnull())\n",
    "df_train = df_train[~null_rows]\n",
    "\n"
   ]
  },
  {
   "cell_type": "code",
   "execution_count": 13,
   "metadata": {},
   "outputs": [],
   "source": []
  },
  {
   "cell_type": "code",
   "execution_count": 17,
   "metadata": {},
   "outputs": [],
   "source": [
    "# MAX LENGTH substitution\n",
    "#np.max(df_train['Title'].apply(lambda x : len(x)).to_list())\n",
    "MAX_LENGTH = 256\n",
    "df_train = df_train[~(df_train.Title.apply(lambda x : len(x)) > MAX_LENGTH)]"
   ]
  },
  {
   "cell_type": "code",
   "execution_count": 18,
   "metadata": {},
   "outputs": [],
   "source": [
    "SAMPLE_FRAC = 0.1\n",
    "df_train = df_train.sample(frac=SAMPLE_FRAC, random_state=9487)"
   ]
  },
  {
   "cell_type": "code",
   "execution_count": 19,
   "metadata": {},
   "outputs": [
    {
     "data": {
      "text/html": [
       "<div>\n",
       "<style scoped>\n",
       "    .dataframe tbody tr th:only-of-type {\n",
       "        vertical-align: middle;\n",
       "    }\n",
       "\n",
       "    .dataframe tbody tr th {\n",
       "        vertical-align: top;\n",
       "    }\n",
       "\n",
       "    .dataframe thead th {\n",
       "        text-align: right;\n",
       "    }\n",
       "</style>\n",
       "<table border=\"1\" class=\"dataframe\">\n",
       "  <thead>\n",
       "    <tr style=\"text-align: right;\">\n",
       "      <th></th>\n",
       "      <th>Title</th>\n",
       "      <th>Price</th>\n",
       "      <th>Click Popularity</th>\n",
       "    </tr>\n",
       "  </thead>\n",
       "  <tbody>\n",
       "    <tr>\n",
       "      <td>0</td>\n",
       "      <td>Buy Art For Less Coastal Nautical Sea Life Sea...</td>\n",
       "      <td>48.99</td>\n",
       "      <td>0.1932</td>\n",
       "    </tr>\n",
       "    <tr>\n",
       "      <td>1</td>\n",
       "      <td>Safavieh Light Blue/Dark Blue Adirondack 10 ft...</td>\n",
       "      <td>68.50</td>\n",
       "      <td>0.5798</td>\n",
       "    </tr>\n",
       "    <tr>\n",
       "      <td>2</td>\n",
       "      <td>Funny Prank Blurry Eye Chart Exam T Shirt</td>\n",
       "      <td>16.99</td>\n",
       "      <td>0.1932</td>\n",
       "    </tr>\n",
       "    <tr>\n",
       "      <td>3</td>\n",
       "      <td>Opinion Ciatti Gaga 35.43\" H x 45.28\" W Desk H...</td>\n",
       "      <td>1369.99</td>\n",
       "      <td>0.7730</td>\n",
       "    </tr>\n",
       "    <tr>\n",
       "      <td>4</td>\n",
       "      <td>J. Crew Wool Cardigan Sweater: Black Solid Swe...</td>\n",
       "      <td>21.99</td>\n",
       "      <td>0.3865</td>\n",
       "    </tr>\n",
       "  </tbody>\n",
       "</table>\n",
       "</div>"
      ],
      "text/plain": [
       "                                               Title    Price  \\\n",
       "0  Buy Art For Less Coastal Nautical Sea Life Sea...    48.99   \n",
       "1  Safavieh Light Blue/Dark Blue Adirondack 10 ft...    68.50   \n",
       "2          Funny Prank Blurry Eye Chart Exam T Shirt    16.99   \n",
       "3  Opinion Ciatti Gaga 35.43\" H x 45.28\" W Desk H...  1369.99   \n",
       "4  J. Crew Wool Cardigan Sweater: Black Solid Swe...    21.99   \n",
       "\n",
       "   Click Popularity  \n",
       "0            0.1932  \n",
       "1            0.5798  \n",
       "2            0.1932  \n",
       "3            0.7730  \n",
       "4            0.3865  "
      ]
     },
     "execution_count": 19,
     "metadata": {},
     "output_type": "execute_result"
    }
   ],
   "source": [
    "# 去除不必要的欄位並重新命名兩標題的欄位名\n",
    "df_train = df_train.reset_index()\n",
    "df_train = df_train.loc[:, ['Title', 'Price', 'Click Popularity']]\n",
    "df_train.head()"
   ]
  },
  {
   "cell_type": "code",
   "execution_count": null,
   "metadata": {},
   "outputs": [],
   "source": [
    "# idempotence, 將處理結果另存成 tsv 供 PyTorch 使用\n",
    "df_train.to_csv(\"train.tsv\", sep=\"\\t\", index=False)\n",
    "\n",
    "print(\"訓練樣本數：\", len(df_train))\n",
    "df_train.head()"
   ]
  }
 ],
 "metadata": {
  "kernelspec": {
   "display_name": "Python 3",
   "language": "python",
   "name": "python3"
  },
  "language_info": {
   "codemirror_mode": {
    "name": "ipython",
    "version": 3
   },
   "file_extension": ".py",
   "mimetype": "text/x-python",
   "name": "python",
   "nbconvert_exporter": "python",
   "pygments_lexer": "ipython3",
   "version": "3.7.4"
  }
 },
 "nbformat": 4,
 "nbformat_minor": 2
}
